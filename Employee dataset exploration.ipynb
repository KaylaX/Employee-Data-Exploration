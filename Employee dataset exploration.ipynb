{
 "cells": [
  {
   "cell_type": "code",
   "execution_count": 1,
   "metadata": {},
   "outputs": [],
   "source": [
    "import pandas as pd\n",
    "import numpy as np\n",
    "import matplotlib.pyplot as plt \n",
    "%matplotlib inline\n",
    "\n",
    "data = pd.read_csv('/Users/kaylaxie/Desktop/dataset.csv')"
   ]
  },
  {
   "cell_type": "code",
   "execution_count": 2,
   "metadata": {},
   "outputs": [
    {
     "data": {
      "text/plain": [
       "Id                    int64\n",
       "EmployeeName         object\n",
       "JobTitle             object\n",
       "BasePay             float64\n",
       "OvertimePay         float64\n",
       "OtherPay            float64\n",
       "Benefits            float64\n",
       "TotalPay            float64\n",
       "TotalPayBenefits    float64\n",
       "Year                  int64\n",
       "Notes               float64\n",
       "Agency               object\n",
       "Status              float64\n",
       "dtype: object"
      ]
     },
     "execution_count": 2,
     "metadata": {},
     "output_type": "execute_result"
    }
   ],
   "source": [
    "data.dtypes"
   ]
  },
  {
   "cell_type": "code",
   "execution_count": 3,
   "metadata": {},
   "outputs": [
    {
     "data": {
      "text/plain": [
       "148654"
      ]
     },
     "execution_count": 3,
     "metadata": {},
     "output_type": "execute_result"
    }
   ],
   "source": [
    "len(data)"
   ]
  },
  {
   "cell_type": "code",
   "execution_count": 4,
   "metadata": {},
   "outputs": [
    {
     "data": {
      "text/plain": [
       "Id                  100.000000\n",
       "EmployeeName        100.000000\n",
       "JobTitle            100.000000\n",
       "BasePay              99.590324\n",
       "OvertimePay          99.997309\n",
       "OtherPay             99.997309\n",
       "Benefits             75.673039\n",
       "TotalPay            100.000000\n",
       "TotalPayBenefits    100.000000\n",
       "Year                100.000000\n",
       "Notes                 0.000000\n",
       "Agency              100.000000\n",
       "Status                0.000000\n",
       "dtype: float64"
      ]
     },
     "execution_count": 4,
     "metadata": {},
     "output_type": "execute_result"
    }
   ],
   "source": [
    "data.count()*100/148654"
   ]
  },
  {
   "cell_type": "code",
   "execution_count": 5,
   "metadata": {},
   "outputs": [],
   "source": [
    "data.set_index('Id',inplace=True)"
   ]
  },
  {
   "cell_type": "code",
   "execution_count": 6,
   "metadata": {},
   "outputs": [
    {
     "data": {
      "text/html": [
       "<div>\n",
       "<style scoped>\n",
       "    .dataframe tbody tr th:only-of-type {\n",
       "        vertical-align: middle;\n",
       "    }\n",
       "\n",
       "    .dataframe tbody tr th {\n",
       "        vertical-align: top;\n",
       "    }\n",
       "\n",
       "    .dataframe thead th {\n",
       "        text-align: right;\n",
       "    }\n",
       "</style>\n",
       "<table border=\"1\" class=\"dataframe\">\n",
       "  <thead>\n",
       "    <tr style=\"text-align: right;\">\n",
       "      <th></th>\n",
       "      <th>BasePay</th>\n",
       "      <th>OvertimePay</th>\n",
       "      <th>OtherPay</th>\n",
       "      <th>Benefits</th>\n",
       "      <th>TotalPay</th>\n",
       "      <th>TotalPayBenefits</th>\n",
       "      <th>Year</th>\n",
       "      <th>Notes</th>\n",
       "      <th>Status</th>\n",
       "    </tr>\n",
       "  </thead>\n",
       "  <tbody>\n",
       "    <tr>\n",
       "      <th>count</th>\n",
       "      <td>148045.000000</td>\n",
       "      <td>148650.000000</td>\n",
       "      <td>148650.000000</td>\n",
       "      <td>112491.000000</td>\n",
       "      <td>148654.000000</td>\n",
       "      <td>148654.000000</td>\n",
       "      <td>148654.000000</td>\n",
       "      <td>0.0</td>\n",
       "      <td>0.0</td>\n",
       "    </tr>\n",
       "    <tr>\n",
       "      <th>mean</th>\n",
       "      <td>66325.448840</td>\n",
       "      <td>5066.059886</td>\n",
       "      <td>3648.767297</td>\n",
       "      <td>25007.893151</td>\n",
       "      <td>74768.321972</td>\n",
       "      <td>93692.554811</td>\n",
       "      <td>2012.522643</td>\n",
       "      <td>NaN</td>\n",
       "      <td>NaN</td>\n",
       "    </tr>\n",
       "    <tr>\n",
       "      <th>std</th>\n",
       "      <td>42764.635495</td>\n",
       "      <td>11454.380559</td>\n",
       "      <td>8056.601866</td>\n",
       "      <td>15402.215858</td>\n",
       "      <td>50517.005274</td>\n",
       "      <td>62793.533483</td>\n",
       "      <td>1.117538</td>\n",
       "      <td>NaN</td>\n",
       "      <td>NaN</td>\n",
       "    </tr>\n",
       "    <tr>\n",
       "      <th>min</th>\n",
       "      <td>-166.010000</td>\n",
       "      <td>-0.010000</td>\n",
       "      <td>-7058.590000</td>\n",
       "      <td>-33.890000</td>\n",
       "      <td>-618.130000</td>\n",
       "      <td>-618.130000</td>\n",
       "      <td>2011.000000</td>\n",
       "      <td>NaN</td>\n",
       "      <td>NaN</td>\n",
       "    </tr>\n",
       "    <tr>\n",
       "      <th>25%</th>\n",
       "      <td>33588.200000</td>\n",
       "      <td>0.000000</td>\n",
       "      <td>0.000000</td>\n",
       "      <td>11535.395000</td>\n",
       "      <td>36168.995000</td>\n",
       "      <td>44065.650000</td>\n",
       "      <td>2012.000000</td>\n",
       "      <td>NaN</td>\n",
       "      <td>NaN</td>\n",
       "    </tr>\n",
       "    <tr>\n",
       "      <th>50%</th>\n",
       "      <td>65007.450000</td>\n",
       "      <td>0.000000</td>\n",
       "      <td>811.270000</td>\n",
       "      <td>28628.620000</td>\n",
       "      <td>71426.610000</td>\n",
       "      <td>92404.090000</td>\n",
       "      <td>2013.000000</td>\n",
       "      <td>NaN</td>\n",
       "      <td>NaN</td>\n",
       "    </tr>\n",
       "    <tr>\n",
       "      <th>75%</th>\n",
       "      <td>94691.050000</td>\n",
       "      <td>4658.175000</td>\n",
       "      <td>4236.065000</td>\n",
       "      <td>35566.855000</td>\n",
       "      <td>105839.135000</td>\n",
       "      <td>132876.450000</td>\n",
       "      <td>2014.000000</td>\n",
       "      <td>NaN</td>\n",
       "      <td>NaN</td>\n",
       "    </tr>\n",
       "    <tr>\n",
       "      <th>max</th>\n",
       "      <td>319275.010000</td>\n",
       "      <td>245131.880000</td>\n",
       "      <td>400184.250000</td>\n",
       "      <td>96570.660000</td>\n",
       "      <td>567595.430000</td>\n",
       "      <td>567595.430000</td>\n",
       "      <td>2014.000000</td>\n",
       "      <td>NaN</td>\n",
       "      <td>NaN</td>\n",
       "    </tr>\n",
       "  </tbody>\n",
       "</table>\n",
       "</div>"
      ],
      "text/plain": [
       "             BasePay    OvertimePay       OtherPay       Benefits  \\\n",
       "count  148045.000000  148650.000000  148650.000000  112491.000000   \n",
       "mean    66325.448840    5066.059886    3648.767297   25007.893151   \n",
       "std     42764.635495   11454.380559    8056.601866   15402.215858   \n",
       "min      -166.010000      -0.010000   -7058.590000     -33.890000   \n",
       "25%     33588.200000       0.000000       0.000000   11535.395000   \n",
       "50%     65007.450000       0.000000     811.270000   28628.620000   \n",
       "75%     94691.050000    4658.175000    4236.065000   35566.855000   \n",
       "max    319275.010000  245131.880000  400184.250000   96570.660000   \n",
       "\n",
       "            TotalPay  TotalPayBenefits           Year  Notes  Status  \n",
       "count  148654.000000     148654.000000  148654.000000    0.0     0.0  \n",
       "mean    74768.321972      93692.554811    2012.522643    NaN     NaN  \n",
       "std     50517.005274      62793.533483       1.117538    NaN     NaN  \n",
       "min      -618.130000       -618.130000    2011.000000    NaN     NaN  \n",
       "25%     36168.995000      44065.650000    2012.000000    NaN     NaN  \n",
       "50%     71426.610000      92404.090000    2013.000000    NaN     NaN  \n",
       "75%    105839.135000     132876.450000    2014.000000    NaN     NaN  \n",
       "max    567595.430000     567595.430000    2014.000000    NaN     NaN  "
      ]
     },
     "execution_count": 6,
     "metadata": {},
     "output_type": "execute_result"
    }
   ],
   "source": [
    "data.describe()"
   ]
  },
  {
   "cell_type": "code",
   "execution_count": 7,
   "metadata": {},
   "outputs": [
    {
     "data": {
      "text/plain": [
       "66325.44884048768"
      ]
     },
     "execution_count": 7,
     "metadata": {},
     "output_type": "execute_result"
    }
   ],
   "source": [
    "#Question 1\n",
    "data['BasePay'].mean()\n",
    "#The average of Basepay is $66325.45, including the 0s."
   ]
  },
  {
   "cell_type": "code",
   "execution_count": 8,
   "metadata": {},
   "outputs": [
    {
     "data": {
      "text/plain": [
       "EmployeeName        148654\n",
       "JobTitle            148654\n",
       "BasePay             148045\n",
       "OvertimePay         148650\n",
       "OtherPay            148650\n",
       "Benefits            148654\n",
       "TotalPay            148654\n",
       "TotalPayBenefits    148654\n",
       "Year                148654\n",
       "Notes                    0\n",
       "Agency              148654\n",
       "Status                   0\n",
       "dtype: int64"
      ]
     },
     "execution_count": 8,
     "metadata": {},
     "output_type": "execute_result"
    }
   ],
   "source": [
    "#Question 2\n",
    "data['Benefits'].fillna(0, inplace=True)\n",
    "data.count()"
   ]
  },
  {
   "cell_type": "code",
   "execution_count": 9,
   "metadata": {},
   "outputs": [
    {
     "data": {
      "text/plain": [
       "2014    38123\n",
       "2013    37606\n",
       "2012    36766\n",
       "2011    36159\n",
       "Name: Year, dtype: int64"
      ]
     },
     "execution_count": 9,
     "metadata": {},
     "output_type": "execute_result"
    }
   ],
   "source": [
    "data['Year'].value_counts()\n",
    "#this dataset covers employee information from 2011 to 2014"
   ]
  },
  {
   "cell_type": "code",
   "execution_count": 10,
   "metadata": {},
   "outputs": [],
   "source": [
    "data['EmployeeName']=[i.lower() for i in data['EmployeeName']]"
   ]
  },
  {
   "cell_type": "code",
   "execution_count": 11,
   "metadata": {},
   "outputs": [
    {
     "data": {
      "text/plain": [
       "42919.16"
      ]
     },
     "execution_count": 11,
     "metadata": {},
     "output_type": "execute_result"
    }
   ],
   "source": [
    "sum(data[data.EmployeeName== \"joseph driscoll\"][\"Benefits\"])\n",
    "#The total benefits of \"Joseph Driscoll\" over the year 2011 to year 2014 are $42919.16."
   ]
  },
  {
   "cell_type": "code",
   "execution_count": 12,
   "metadata": {},
   "outputs": [
    {
     "name": "stderr",
     "output_type": "stream",
     "text": [
      "/Users/kaylaxie/miniconda3/lib/python3.6/site-packages/ipykernel_launcher.py:2: FutureWarning: 'argmax' is deprecated. Use 'idxmax' instead. The behavior of 'argmax' will be corrected to return the positional maximum in the future. Use 'series.values.argmax' to get the position of the maximum now.\n",
      "  \n"
     ]
    },
    {
     "data": {
      "text/plain": [
       "'nathaniel ford'"
      ]
     },
     "execution_count": 12,
     "metadata": {},
     "output_type": "execute_result"
    }
   ],
   "source": [
    "#Question 3\n",
    "data.loc[data[\"TotalPay\"].argmax(),\"EmployeeName\"]\n",
    "#The highest paid person is \"Nathaniel Ford\"."
   ]
  },
  {
   "cell_type": "code",
   "execution_count": 13,
   "metadata": {},
   "outputs": [
    {
     "data": {
      "text/plain": [
       "Year\n",
       "2011    63595.956517\n",
       "2012    65436.406857\n",
       "2013    69630.030216\n",
       "2014    66564.421924\n",
       "Name: BasePay, dtype: float64"
      ]
     },
     "execution_count": 13,
     "metadata": {},
     "output_type": "execute_result"
    }
   ],
   "source": [
    "#Question 4\n",
    "data['EmployeeName'] = data['EmployeeName'].str.strip()\n",
    "BasePay_by_employee=data.groupby(['Year']).mean()['BasePay']\n",
    "BasePay_by_employee"
   ]
  },
  {
   "cell_type": "code",
   "execution_count": 14,
   "metadata": {},
   "outputs": [
    {
     "data": {
      "text/plain": [
       "202"
      ]
     },
     "execution_count": 14,
     "metadata": {},
     "output_type": "execute_result"
    }
   ],
   "source": [
    "#Question 5\n",
    "jobtitlecount = pd.value_counts(data[data['Year'] == 2013][\"JobTitle\"])\n",
    "jobtitlecount = pd.DataFrame({\"title\":jobtitlecount.index,\"count\":jobtitlecount.values})\n",
    "len(jobtitlecount[jobtitlecount['count'] == 1])"
   ]
  },
  {
   "cell_type": "code",
   "execution_count": 15,
   "metadata": {},
   "outputs": [
    {
     "data": {
      "text/plain": [
       "627"
      ]
     },
     "execution_count": 15,
     "metadata": {},
     "output_type": "execute_result"
    }
   ],
   "source": [
    "#Question 6\n",
    "data['JobTitle']=data['JobTitle'].str.lower()\n",
    "import re\n",
    "def detectchief(x):\n",
    "    return bool(re.search(pattern = \"(.*)chief(.*)\", string = x))\n",
    "\n",
    "sum(data['JobTitle'].apply(lambda x:detectchief(x)))"
   ]
  },
  {
   "cell_type": "code",
   "execution_count": 16,
   "metadata": {},
   "outputs": [
    {
     "data": {
      "text/plain": [
       "Text(0,0.5,'TotalPayBenefits')"
      ]
     },
     "execution_count": 16,
     "metadata": {},
     "output_type": "execute_result"
    },
    {
     "data": {
      "image/png": "[encoded data removed]",
      "text/plain": [
       "<matplotlib.figure.Figure at 0x10a9550f0>"
      ]
     },
     "metadata": {},
     "output_type": "display_data"
    }
   ],
   "source": [
    "#Question 7\n",
    "data['JobTitle']=data['JobTitle'].apply(lambda x:x.replace(\" \", \"\"))\n",
    "data['length']=data['JobTitle'].apply(lambda x:len(x))\n",
    "import matplotlib.pyplot as plt\n",
    "plt.scatter(data['length'],data['TotalPayBenefits'])\n",
    "plt.xlabel('length')\n",
    "plt.ylabel('TotalPayBenefits')\n",
    "#from the graph below we can see that there is no correlation between length and TotalPayBenefits,\n",
    "#because for each length, TotalPayBenefits can take a wide range of values."
   ]
  },
  {
   "cell_type": "code",
   "execution_count": 17,
   "metadata": {
    "scrolled": true
   },
   "outputs": [
    {
     "data": {
      "text/plain": [
       "(-0.03639702423148055, masked_array(data=9.17022329e-45,\n",
       "              mask=False,\n",
       "        fill_value=1e+20))"
      ]
     },
     "execution_count": 17,
     "metadata": {},
     "output_type": "execute_result"
    }
   ],
   "source": [
    "import scipy\n",
    "from scipy.stats import pearsonr\n",
    "scipy.stats.mstats.pearsonr(data['length'],data['TotalPayBenefits'])\n",
    "#This further confirms that there exists no linear relationship between the two variables.\n",
    "#The correlation coefficient is -0.0364, implying a negligible linear relationship between the length of JobTitle and TotalPayBenefits."
   ]
  },
  {
   "cell_type": "code",
   "execution_count": 18,
   "metadata": {},
   "outputs": [
    {
     "name": "stdout",
     "output_type": "stream",
     "text": [
      "There is no correlation between length of the Job Title string and Salary.\n"
     ]
    }
   ],
   "source": [
    "print(\"There is no correlation between length of the Job Title string and Salary.\")"
   ]
  },
  {
   "cell_type": "code",
   "execution_count": 19,
   "metadata": {},
   "outputs": [
    {
     "data": {
      "text/plain": [
       "<matplotlib.axes._subplots.AxesSubplot at 0x10adbfe80>"
      ]
     },
     "execution_count": 19,
     "metadata": {},
     "output_type": "execute_result"
    },
    {
     "data": {
      "image/png": "[encoded data removed]",
      "text/plain": [
       "<matplotlib.figure.Figure at 0x1030b09b0>"
      ]
     },
     "metadata": {},
     "output_type": "display_data"
    }
   ],
   "source": [
    "#Question 8\n",
    "import seaborn as sns\n",
    "sns.heatmap(data.corr(),vmin=-1, vmax=1)"
   ]
  },
  {
   "cell_type": "code",
   "execution_count": 20,
   "metadata": {},
   "outputs": [
    {
     "data": {
      "text/plain": [
       "JobTitle\n",
       "accountant                                        65392.01\n",
       "accountanti                                       71605.00\n",
       "accountantii                                      82553.67\n",
       "accountantiii                                    103766.03\n",
       "accountantintern                                  64629.68\n",
       "accountantiv                                     119516.19\n",
       "accountclerk                                      60838.20\n",
       "acpo,juvp,juvprob(sfers)                          62290.78\n",
       "acupuncturist                                     75411.00\n",
       "adm,sfghmedicalcenter                            271831.50\n",
       "adminanalyst3                                     95316.22\n",
       "adminhearingexaminer                              93197.07\n",
       "administrativeanalyst                             98419.02\n",
       "administrativeanalysti                            51604.96\n",
       "administrativeanalystii                           75585.82\n",
       "administrativeanalystiii                          92847.00\n",
       "administrativeengineer                           142485.05\n",
       "administrativehearingsup                          95320.05\n",
       "administrativeservicesmanager                     92002.00\n",
       "administrativeservicesmgr                        100753.00\n",
       "administrator,dph                                282619.96\n",
       "administrator,sfghmedicalcenter                  245124.44\n",
       "admissionattendant                                46737.03\n",
       "affirmativeactionspecialist                       79696.00\n",
       "agriculturalinspector                             65610.08\n",
       "airportassistantdeputydirector,businessadmini      1927.50\n",
       "airportassistantdeputydirector,operations         15420.00\n",
       "airportcommunicationsdisp                         81945.13\n",
       "airportcommunicationsofficer                      97698.90\n",
       "airportcommunicationsoperator                     73255.90\n",
       "                                                   ...    \n",
       "waterqualitytechi/ii                              80903.54\n",
       "waterqualitytechiii                               87028.52\n",
       "waterqualitytechnician                            80076.04\n",
       "waterqualitytechniciani/ii                        74174.70\n",
       "waterqualitytechnicianiii                         79477.02\n",
       "waterserviceinspector                             99473.55\n",
       "watershedforester                                100999.83\n",
       "watershedforestermanager                          92900.40\n",
       "watershedkeeper                                   74772.05\n",
       "watershedkeepersupervisor                         76545.02\n",
       "watershedworker(seasonal)                         20952.00\n",
       "welder                                            83090.50\n",
       "welfarefraudinvestigator                          97367.45\n",
       "wharfinger1                                       63293.06\n",
       "wharfinger2                                       83727.04\n",
       "wharfingeri                                       64219.48\n",
       "wharfingerii                                      72681.97\n",
       "windowcleaner                                     74304.00\n",
       "windowcleanersupervisor                           77937.93\n",
       "wireropecablemaintenancemechanic                  77916.00\n",
       "wireropecablemaintenancesupervisor                85624.87\n",
       "wireropecablemaintmechanic                        91901.03\n",
       "wireropecablemaintsprv                            95716.51\n",
       "worker'scompensationadjuster                     106050.66\n",
       "worker'scompensationsupervisori                   95284.63\n",
       "worker'scompsupervisor1                          108162.03\n",
       "x-raylaboratoryaide                               66123.01\n",
       "youthcommadvisor                                  57544.73\n",
       "youthcommissionadvisor,boardofsupervisors         52609.91\n",
       "zoocurator                                        43148.00\n",
       "Name: BasePay, Length: 1618, dtype: float64"
      ]
     },
     "execution_count": 20,
     "metadata": {},
     "output_type": "execute_result"
    }
   ],
   "source": [
    "#Question 9\n",
    "MaxBasePay_by_job=data.groupby(['JobTitle']).max()['BasePay']\n",
    "MaxBasePay_by_job"
   ]
  },
  {
   "cell_type": "code",
   "execution_count": 21,
   "metadata": {},
   "outputs": [],
   "source": [
    "#Question 10\n",
    "#I am just writing my thoughts to approach this problem. To actually realize it, I need more time and need to learn text mining.\n",
    "#np.array(data_categorized)[np.argsort(data_categorized['TotalPayBenefits'])]\n",
    "#Applied text mining techniques (k-means clustering) to classify different job titles \n",
    "#into different sectors.\n",
    "#from there, I can use groupby(sectors).mean()\n",
    "#then use argsort() to arrange the salary from high to low\n",
    "#finally head(30) to pick the top 30 sectors"
   ]
  },
  {
   "cell_type": "code",
   "execution_count": 22,
   "metadata": {},
   "outputs": [
    {
     "data": {
      "text/plain": [
       "('correlation coefficient:', 0.9546925905788393)"
      ]
     },
     "execution_count": 22,
     "metadata": {},
     "output_type": "execute_result"
    }
   ],
   "source": [
    "#Question 11\n",
    "import scipy\n",
    "from scipy.stats import pearsonr\n",
    "data['BasePay'].fillna(0, inplace=True)\n",
    "correlation, p_value = pearsonr(data['BasePay'],data['TotalPay'])\n",
    "correlationtext=\"correlation coefficient:\",correlation\n",
    "correlationtext"
   ]
  },
  {
   "cell_type": "code",
   "execution_count": 23,
   "metadata": {},
   "outputs": [
    {
     "data": {
      "text/plain": [
       "Text(150000,40000,\"('correlation coefficient:', 0.9546925905788393)\")"
      ]
     },
     "execution_count": 23,
     "metadata": {},
     "output_type": "execute_result"
    },
    {
     "data": {
      "image/png": "[encoded data removed]",
      "text/plain": [
       "<matplotlib.figure.Figure at 0x1a15f000b8>"
      ]
     },
     "metadata": {},
     "output_type": "display_data"
    }
   ],
   "source": [
    "import seaborn as sns\n",
    "sns.lmplot(x='BasePay',y='TotalPay',data=data,fit_reg=True) \n",
    "plt.xlabel('BasePay')\n",
    "plt.ylabel('TotalPay')\n",
    "plt.text(150000,40000,correlationtext)\n",
    "#BasePay is a good indicator of TotalPay. TotalPay is strongly and positively correlated to BasePay.\n",
    "#A correlation coefficient of 0.9547, which is close to 1,indicates a strong linear relationship."
   ]
  },
  {
   "cell_type": "code",
   "execution_count": 24,
   "metadata": {},
   "outputs": [
    {
     "data": {
      "text/plain": [
       "(array([8.735e+03, 5.007e+03, 4.298e+03, 3.742e+03, 3.083e+03, 2.621e+03,\n",
       "        2.336e+03, 2.092e+03, 1.924e+03, 1.561e+03, 1.609e+03, 1.631e+03,\n",
       "        1.714e+03, 1.911e+03, 1.992e+03, 2.607e+03, 3.517e+03, 4.064e+03,\n",
       "        5.143e+03, 4.367e+03, 5.500e+03, 5.702e+03, 6.410e+03, 3.847e+03,\n",
       "        4.017e+03, 3.410e+03, 4.171e+03, 3.072e+03, 2.755e+03, 3.258e+03,\n",
       "        2.885e+03, 2.889e+03, 2.824e+03, 2.274e+03, 2.074e+03, 2.974e+03,\n",
       "        2.061e+03, 3.571e+03, 2.118e+03, 2.801e+03, 1.765e+03, 1.964e+03,\n",
       "        1.172e+03, 1.523e+03, 1.018e+03, 1.284e+03, 7.880e+02, 7.560e+02,\n",
       "        7.280e+02, 4.490e+02, 3.090e+02, 3.970e+02, 4.100e+02, 1.990e+02,\n",
       "        2.360e+02, 3.990e+02, 3.660e+02, 1.500e+02, 1.620e+02, 2.670e+02,\n",
       "        4.830e+02, 9.700e+01, 1.550e+02, 1.500e+02, 1.300e+02, 9.400e+01,\n",
       "        7.600e+01, 9.300e+01, 7.700e+01, 9.100e+01, 2.900e+01, 3.600e+01,\n",
       "        2.600e+01, 2.100e+01, 2.000e+01, 1.400e+01, 2.300e+01, 1.000e+01,\n",
       "        1.200e+01, 7.000e+00, 6.000e+00, 7.000e+00, 5.000e+00, 6.000e+00,\n",
       "        4.000e+00, 8.000e+00, 6.000e+00, 6.000e+00, 4.000e+00, 1.000e+00,\n",
       "        8.000e+00, 1.200e+01, 1.000e+00, 4.000e+00, 2.000e+00, 1.000e+00,\n",
       "        4.000e+00, 0.000e+00, 0.000e+00, 4.000e+00]),\n",
       " array([-1.66010000e+02,  2.80508020e+03,  5.77617040e+03,  8.74726060e+03,\n",
       "         1.17183508e+04,  1.46894410e+04,  1.76605312e+04,  2.06316214e+04,\n",
       "         2.36027116e+04,  2.65738018e+04,  2.95448920e+04,  3.25159822e+04,\n",
       "         3.54870724e+04,  3.84581626e+04,  4.14292528e+04,  4.44003430e+04,\n",
       "         4.73714332e+04,  5.03425234e+04,  5.33136136e+04,  5.62847038e+04,\n",
       "         5.92557940e+04,  6.22268842e+04,  6.51979744e+04,  6.81690646e+04,\n",
       "         7.11401548e+04,  7.41112450e+04,  7.70823352e+04,  8.00534254e+04,\n",
       "         8.30245156e+04,  8.59956058e+04,  8.89666960e+04,  9.19377862e+04,\n",
       "         9.49088764e+04,  9.78799666e+04,  1.00851057e+05,  1.03822147e+05,\n",
       "         1.06793237e+05,  1.09764327e+05,  1.12735418e+05,  1.15706508e+05,\n",
       "         1.18677598e+05,  1.21648688e+05,  1.24619778e+05,  1.27590869e+05,\n",
       "         1.30561959e+05,  1.33533049e+05,  1.36504139e+05,  1.39475229e+05,\n",
       "         1.42446320e+05,  1.45417410e+05,  1.48388500e+05,  1.51359590e+05,\n",
       "         1.54330680e+05,  1.57301771e+05,  1.60272861e+05,  1.63243951e+05,\n",
       "         1.66215041e+05,  1.69186131e+05,  1.72157222e+05,  1.75128312e+05,\n",
       "         1.78099402e+05,  1.81070492e+05,  1.84041582e+05,  1.87012673e+05,\n",
       "         1.89983763e+05,  1.92954853e+05,  1.95925943e+05,  1.98897033e+05,\n",
       "         2.01868124e+05,  2.04839214e+05,  2.07810304e+05,  2.10781394e+05,\n",
       "         2.13752484e+05,  2.16723575e+05,  2.19694665e+05,  2.22665755e+05,\n",
       "         2.25636845e+05,  2.28607935e+05,  2.31579026e+05,  2.34550116e+05,\n",
       "         2.37521206e+05,  2.40492296e+05,  2.43463386e+05,  2.46434477e+05,\n",
       "         2.49405567e+05,  2.52376657e+05,  2.55347747e+05,  2.58318837e+05,\n",
       "         2.61289928e+05,  2.64261018e+05,  2.67232108e+05,  2.70203198e+05,\n",
       "         2.73174288e+05,  2.76145379e+05,  2.79116469e+05,  2.82087559e+05,\n",
       "         2.85058649e+05,  2.88029739e+05,  2.91000830e+05,  2.93971920e+05,\n",
       "         2.96943010e+05]),\n",
       " <a list of 100 Patch objects>)"
      ]
     },
     "execution_count": 24,
     "metadata": {},
     "output_type": "execute_result"
    },
    {
     "data": {
      "image/png": "[encoded data removed]",
      "text/plain": [
       "<matplotlib.figure.Figure at 0x1a15f47080>"
      ]
     },
     "metadata": {},
     "output_type": "display_data"
    }
   ],
   "source": [
    "#Question 12: other interesting insights\n",
    "#plotting the distribution of BasePay \n",
    "xhigh = 300000\n",
    "plt.xlim(0,xhigh)\n",
    "temp = data[data['BasePay'] <= xhigh] \n",
    "plt.hist(temp['BasePay'],bins=100,color='#1E90FF')"
   ]
  },
  {
   "cell_type": "code",
   "execution_count": 25,
   "metadata": {},
   "outputs": [],
   "source": [
    "#Insight 1\n",
    "#There are some maximas around $70000, $120000.\n",
    "#They could be the median wage of entry-level positions and middle-level positions.\n",
    "#The really high values (above $200000) are rare."
   ]
  },
  {
   "cell_type": "code",
   "execution_count": 26,
   "metadata": {},
   "outputs": [
    {
     "data": {
      "text/html": [
       "<div>\n",
       "<style scoped>\n",
       "    .dataframe tbody tr th:only-of-type {\n",
       "        vertical-align: middle;\n",
       "    }\n",
       "\n",
       "    .dataframe tbody tr th {\n",
       "        vertical-align: top;\n",
       "    }\n",
       "\n",
       "    .dataframe thead th {\n",
       "        text-align: right;\n",
       "    }\n",
       "</style>\n",
       "<table border=\"1\" class=\"dataframe\">\n",
       "  <thead>\n",
       "    <tr style=\"text-align: right;\">\n",
       "      <th></th>\n",
       "      <th>BasePay</th>\n",
       "      <th>OvertimePay</th>\n",
       "      <th>OtherPay</th>\n",
       "      <th>Benefits</th>\n",
       "      <th>TotalPay</th>\n",
       "      <th>TotalPayBenefits</th>\n",
       "      <th>Year</th>\n",
       "      <th>Notes</th>\n",
       "      <th>Status</th>\n",
       "      <th>length</th>\n",
       "    </tr>\n",
       "  </thead>\n",
       "  <tbody>\n",
       "    <tr>\n",
       "      <th>count</th>\n",
       "      <td>148654.000000</td>\n",
       "      <td>148650.000000</td>\n",
       "      <td>148650.000000</td>\n",
       "      <td>148654.000000</td>\n",
       "      <td>148654.000000</td>\n",
       "      <td>148654.000000</td>\n",
       "      <td>148654.000000</td>\n",
       "      <td>0.0</td>\n",
       "      <td>0.0</td>\n",
       "      <td>148654.000000</td>\n",
       "    </tr>\n",
       "    <tr>\n",
       "      <th>mean</th>\n",
       "      <td>66053.729288</td>\n",
       "      <td>5066.059886</td>\n",
       "      <td>3648.767297</td>\n",
       "      <td>18924.232839</td>\n",
       "      <td>74768.321972</td>\n",
       "      <td>93692.554811</td>\n",
       "      <td>2012.522643</td>\n",
       "      <td>NaN</td>\n",
       "      <td>NaN</td>\n",
       "      <td>17.572255</td>\n",
       "    </tr>\n",
       "    <tr>\n",
       "      <th>std</th>\n",
       "      <td>42886.711158</td>\n",
       "      <td>11454.380559</td>\n",
       "      <td>8056.601866</td>\n",
       "      <td>17165.279495</td>\n",
       "      <td>50517.005274</td>\n",
       "      <td>62793.533483</td>\n",
       "      <td>1.117538</td>\n",
       "      <td>NaN</td>\n",
       "      <td>NaN</td>\n",
       "      <td>6.490636</td>\n",
       "    </tr>\n",
       "    <tr>\n",
       "      <th>min</th>\n",
       "      <td>-166.010000</td>\n",
       "      <td>-0.010000</td>\n",
       "      <td>-7058.590000</td>\n",
       "      <td>-33.890000</td>\n",
       "      <td>-618.130000</td>\n",
       "      <td>-618.130000</td>\n",
       "      <td>2011.000000</td>\n",
       "      <td>NaN</td>\n",
       "      <td>NaN</td>\n",
       "      <td>4.000000</td>\n",
       "    </tr>\n",
       "    <tr>\n",
       "      <th>25%</th>\n",
       "      <td>32792.545000</td>\n",
       "      <td>0.000000</td>\n",
       "      <td>0.000000</td>\n",
       "      <td>0.000000</td>\n",
       "      <td>36168.995000</td>\n",
       "      <td>44065.650000</td>\n",
       "      <td>2012.000000</td>\n",
       "      <td>NaN</td>\n",
       "      <td>NaN</td>\n",
       "      <td>13.000000</td>\n",
       "    </tr>\n",
       "    <tr>\n",
       "      <th>50%</th>\n",
       "      <td>64861.600000</td>\n",
       "      <td>0.000000</td>\n",
       "      <td>811.270000</td>\n",
       "      <td>23214.020000</td>\n",
       "      <td>71426.610000</td>\n",
       "      <td>92404.090000</td>\n",
       "      <td>2013.000000</td>\n",
       "      <td>NaN</td>\n",
       "      <td>NaN</td>\n",
       "      <td>16.000000</td>\n",
       "    </tr>\n",
       "    <tr>\n",
       "      <th>75%</th>\n",
       "      <td>94605.740000</td>\n",
       "      <td>4658.175000</td>\n",
       "      <td>4236.065000</td>\n",
       "      <td>33468.980000</td>\n",
       "      <td>105839.135000</td>\n",
       "      <td>132876.450000</td>\n",
       "      <td>2014.000000</td>\n",
       "      <td>NaN</td>\n",
       "      <td>NaN</td>\n",
       "      <td>23.000000</td>\n",
       "    </tr>\n",
       "    <tr>\n",
       "      <th>max</th>\n",
       "      <td>319275.010000</td>\n",
       "      <td>245131.880000</td>\n",
       "      <td>400184.250000</td>\n",
       "      <td>96570.660000</td>\n",
       "      <td>567595.430000</td>\n",
       "      <td>567595.430000</td>\n",
       "      <td>2014.000000</td>\n",
       "      <td>NaN</td>\n",
       "      <td>NaN</td>\n",
       "      <td>47.000000</td>\n",
       "    </tr>\n",
       "  </tbody>\n",
       "</table>\n",
       "</div>"
      ],
      "text/plain": [
       "             BasePay    OvertimePay       OtherPay       Benefits  \\\n",
       "count  148654.000000  148650.000000  148650.000000  148654.000000   \n",
       "mean    66053.729288    5066.059886    3648.767297   18924.232839   \n",
       "std     42886.711158   11454.380559    8056.601866   17165.279495   \n",
       "min      -166.010000      -0.010000   -7058.590000     -33.890000   \n",
       "25%     32792.545000       0.000000       0.000000       0.000000   \n",
       "50%     64861.600000       0.000000     811.270000   23214.020000   \n",
       "75%     94605.740000    4658.175000    4236.065000   33468.980000   \n",
       "max    319275.010000  245131.880000  400184.250000   96570.660000   \n",
       "\n",
       "            TotalPay  TotalPayBenefits           Year  Notes  Status  \\\n",
       "count  148654.000000     148654.000000  148654.000000    0.0     0.0   \n",
       "mean    74768.321972      93692.554811    2012.522643    NaN     NaN   \n",
       "std     50517.005274      62793.533483       1.117538    NaN     NaN   \n",
       "min      -618.130000       -618.130000    2011.000000    NaN     NaN   \n",
       "25%     36168.995000      44065.650000    2012.000000    NaN     NaN   \n",
       "50%     71426.610000      92404.090000    2013.000000    NaN     NaN   \n",
       "75%    105839.135000     132876.450000    2014.000000    NaN     NaN   \n",
       "max    567595.430000     567595.430000    2014.000000    NaN     NaN   \n",
       "\n",
       "              length  \n",
       "count  148654.000000  \n",
       "mean       17.572255  \n",
       "std         6.490636  \n",
       "min         4.000000  \n",
       "25%        13.000000  \n",
       "50%        16.000000  \n",
       "75%        23.000000  \n",
       "max        47.000000  "
      ]
     },
     "execution_count": 26,
     "metadata": {},
     "output_type": "execute_result"
    }
   ],
   "source": [
    "data.describe()"
   ]
  },
  {
   "cell_type": "code",
   "execution_count": 27,
   "metadata": {},
   "outputs": [],
   "source": [
    "#Insight 2\n",
    "#From the summary statistics above, we can se the minimums of different kinds of pay are negative.\n",
    "#The negative pay might mean the company pays the employees in advance before they actually conduct the services or do the work."
   ]
  },
  {
   "cell_type": "code",
   "execution_count": 28,
   "metadata": {},
   "outputs": [],
   "source": [
    "#Bonus\n",
    "#I am just writing my thoughts here. I am not very familiar with regular expression in Python.\n",
    "#Use regular expression to count the number of times that a, e, i, o, u appear in a field of \n",
    "#'EmployeeName'.\n",
    "#create averagepay column using groupby['EmployeeName'].mean('TotalPayBenefits')\n",
    "#use plt.scatter(data['VowelCount'],data['TotalPayBenefits']) to plot the two variables\n",
    "#use pearsonr to calculate the correlation coefficient\n",
    "#if absolute value of correlation >0.9, very strong; if absolute value of correlation >0.7, moderately strong"
   ]
  }
 ],
 "metadata": {
  "kernelspec": {
   "display_name": "Python 3",
   "language": "python",
   "name": "python3"
  },
  "language_info": {
   "codemirror_mode": {
    "name": "ipython",
    "version": 3
   },
   "file_extension": ".py",
   "mimetype": "text/x-python",
   "name": "python",
   "nbconvert_exporter": "python",
   "pygments_lexer": "ipython3",
   "version": "3.6.3"
  }
 },
 "nbformat": 4,
 "nbformat_minor": 2
}
